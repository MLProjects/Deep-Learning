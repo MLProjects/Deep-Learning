{
 "cells": [
  {
   "cell_type": "markdown",
   "metadata": {
    "colab_type": "text",
    "id": "kR-4eNdK6lYS"
   },
   "source": [
    "Deep Learning\n",
    "=============\n",
    "\n",
    "Assignment 3\n",
    "------------\n",
    "\n",
    "Previously in `2_fullyconnected.ipynb`, you trained a logistic regression and a neural network model.\n",
    "\n",
    "The goal of this assignment is to explore regularization techniques."
   ]
  },
  {
   "cell_type": "code",
   "execution_count": 15,
   "metadata": {
    "cellView": "both",
    "colab": {
     "autoexec": {
      "startup": false,
      "wait_interval": 0
     }
    },
    "colab_type": "code",
    "id": "JLpLa8Jt7Vu4"
   },
   "outputs": [],
   "source": [
    "# These are all the modules we'll be using later. Make sure you can import them\n",
    "# before proceeding further.\n",
    "from __future__ import print_function\n",
    "import numpy as np\n",
    "import tensorflow as tf\n",
    "from six.moves import cPickle as pickle\n",
    "import matplotlib.pyplot as plt\n",
    "import os"
   ]
  },
  {
   "cell_type": "markdown",
   "metadata": {
    "colab_type": "text",
    "id": "1HrCK6e17WzV"
   },
   "source": [
    "First reload the data we generated in `1_notmnist.ipynb`."
   ]
  },
  {
   "cell_type": "code",
   "execution_count": 2,
   "metadata": {
    "cellView": "both",
    "colab": {
     "autoexec": {
      "startup": false,
      "wait_interval": 0
     },
     "output_extras": [
      {
       "item_id": 1
      }
     ]
    },
    "colab_type": "code",
    "executionInfo": {
     "elapsed": 11777,
     "status": "ok",
     "timestamp": 1449849322348,
     "user": {
      "color": "",
      "displayName": "",
      "isAnonymous": false,
      "isMe": true,
      "permissionId": "",
      "photoUrl": "",
      "sessionId": "0",
      "userId": ""
     },
     "user_tz": 480
    },
    "id": "y3-cj1bpmuxc",
    "outputId": "e03576f1-ebbe-4838-c388-f1777bcc9873"
   },
   "outputs": [
    {
     "name": "stdout",
     "output_type": "stream",
     "text": [
      "Training set (438047, 28, 28) (438047,)\n",
      "Validation set (15586, 28, 28) (15586,)\n",
      "Test set (13645, 28, 28) (13645,)\n"
     ]
    }
   ],
   "source": [
    "#pickle_file = 'notMNIST.pickle'\n",
    "pickle_file = 'notMNIST_noDupNorOvlp.pickle'\n",
    "\n",
    "with open(pickle_file, 'rb') as f:\n",
    "  save = pickle.load(f)\n",
    "  train_dataset = save['train_dataset']\n",
    "  train_labels = save['train_labels']\n",
    "  valid_dataset = save['valid_dataset']\n",
    "  valid_labels = save['valid_labels']\n",
    "  test_dataset = save['test_dataset']\n",
    "  test_labels = save['test_labels']\n",
    "  del save  # hint to help gc free up memory\n",
    "  print('Training set', train_dataset.shape, train_labels.shape)\n",
    "  print('Validation set', valid_dataset.shape, valid_labels.shape)\n",
    "  print('Test set', test_dataset.shape, test_labels.shape)"
   ]
  },
  {
   "cell_type": "markdown",
   "metadata": {
    "colab_type": "text",
    "id": "L7aHrm6nGDMB"
   },
   "source": [
    "Reformat into a shape that's more adapted to the models we're going to train:\n",
    "- data as a flat matrix,\n",
    "- labels as float 1-hot encodings."
   ]
  },
  {
   "cell_type": "code",
   "execution_count": 3,
   "metadata": {
    "cellView": "both",
    "colab": {
     "autoexec": {
      "startup": false,
      "wait_interval": 0
     },
     "output_extras": [
      {
       "item_id": 1
      }
     ]
    },
    "colab_type": "code",
    "executionInfo": {
     "elapsed": 11728,
     "status": "ok",
     "timestamp": 1449849322356,
     "user": {
      "color": "",
      "displayName": "",
      "isAnonymous": false,
      "isMe": true,
      "permissionId": "",
      "photoUrl": "",
      "sessionId": "0",
      "userId": ""
     },
     "user_tz": 480
    },
    "id": "IRSyYiIIGIzS",
    "outputId": "3f8996ee-3574-4f44-c953-5c8a04636582"
   },
   "outputs": [
    {
     "name": "stdout",
     "output_type": "stream",
     "text": [
      "Training set (438047, 784) (438047, 10)\n",
      "Validation set (15586, 784) (15586, 10)\n",
      "Test set (13645, 784) (13645, 10)\n"
     ]
    }
   ],
   "source": [
    "image_size = 28\n",
    "num_labels = 10\n",
    "\n",
    "def reformat(dataset, labels):\n",
    "  dataset = dataset.reshape((-1, image_size * image_size)).astype(np.float32)\n",
    "  # Map 1 to [0.0, 1.0, 0.0 ...], 2 to [0.0, 0.0, 1.0 ...]\n",
    "  labels = (np.arange(num_labels) == labels[:,None]).astype(np.float32)\n",
    "  return dataset, labels\n",
    "train_dataset, train_labels = reformat(train_dataset, train_labels)\n",
    "valid_dataset, valid_labels = reformat(valid_dataset, valid_labels)\n",
    "test_dataset, test_labels = reformat(test_dataset, test_labels)\n",
    "print('Training set', train_dataset.shape, train_labels.shape)\n",
    "print('Validation set', valid_dataset.shape, valid_labels.shape)\n",
    "print('Test set', test_dataset.shape, test_labels.shape)"
   ]
  },
  {
   "cell_type": "code",
   "execution_count": 4,
   "metadata": {
    "cellView": "both",
    "colab": {
     "autoexec": {
      "startup": false,
      "wait_interval": 0
     }
    },
    "colab_type": "code",
    "id": "RajPLaL_ZW6w"
   },
   "outputs": [],
   "source": [
    "def accuracy(predictions, labels):\n",
    "  return (100.0 * np.sum(np.argmax(predictions, 1) == np.argmax(labels, 1))\n",
    "          / predictions.shape[0])"
   ]
  },
  {
   "cell_type": "markdown",
   "metadata": {
    "colab_type": "text",
    "id": "sgLbUAQ1CW-1"
   },
   "source": [
    "---\n",
    "Problem 1\n",
    "---------\n",
    "\n",
    "Introduce and tune L2 regularization for both logistic and neural network models. Remember that L2 amounts to adding a penalty on the norm of the weights to the loss. In TensorFlow, you can compute the L2 loss for a tensor `t` using `nn.l2_loss(t)`. The right amount of regularization should improve your validation / test accuracy.\n",
    "\n",
    "---"
   ]
  },
  {
   "cell_type": "code",
   "execution_count": 9,
   "metadata": {},
   "outputs": [],
   "source": [
    "num_nodes = 1024\n",
    "batch_size = 512\n",
    "beta = 0.01\n",
    "\n",
    "graph = tf.Graph()\n",
    "with graph.as_default():\n",
    "\n",
    "  # Input data. For the training data, we use a placeholder that will be fed\n",
    "  # at run time with a training minibatch.\n",
    "  tf_train_dataset = tf.placeholder(tf.float32,\n",
    "    shape=(batch_size, image_size * image_size))\n",
    "  tf_train_labels = tf.placeholder(tf.float32, shape=(batch_size, num_labels))\n",
    "  tf_valid_dataset = tf.constant(valid_dataset)\n",
    "  tf_test_dataset = tf.constant(test_dataset)\n",
    "  \n",
    "  # Variables Layer 1\n",
    "  weights_1 = tf.Variable(\n",
    "    tf.truncated_normal([image_size * image_size, num_nodes]))\n",
    "  biases_1 = tf.Variable(tf.zeros([num_nodes]))\n",
    "    \n",
    "  # Variables Layer 2\n",
    "  weights_2 = tf.Variable(\n",
    "    tf.truncated_normal([num_nodes, num_labels]))\n",
    "  biases_2 = tf.Variable(tf.zeros([num_labels]))\n",
    "    \n",
    "  # Training computation.\n",
    "  logits_1 = tf.matmul(tf_train_dataset, weights_1) + biases_1\n",
    "  relu = tf.nn.relu(logits_1)\n",
    "  logits_2 = tf.matmul(relu, weights_2) + biases_2\n",
    "  loss = tf.reduce_mean(\n",
    "    tf.nn.softmax_cross_entropy_with_logits(labels=tf_train_labels, logits=logits_2))\n",
    "\n",
    "  regularization = tf.nn.l2_loss(weights_1) + tf.nn.l2_loss(weights_2)\n",
    "  loss = loss + beta * regularization\n",
    "  \n",
    "  # Optimizer.\n",
    "  optimizer = tf.train.GradientDescentOptimizer(0.5).minimize(loss)\n",
    "    \n",
    "  # Predictions for the training\n",
    "  train_prediction = tf.nn.softmax(logits_2)\n",
    "    \n",
    "  # Predictions for validation \n",
    "  logits_1 = tf.matmul(tf_valid_dataset, weights_1) + biases_1\n",
    "  relu_layer= tf.nn.relu(logits_1)\n",
    "  logits_2 = tf.matmul(relu_layer, weights_2) + biases_2\n",
    "    \n",
    "  valid_prediction = tf.nn.softmax(logits_2)\n",
    "    \n",
    "  # Predictions for test\n",
    "  logits_1 = tf.matmul(tf_test_dataset, weights_1) + biases_1\n",
    "  relu_layer= tf.nn.relu(logits_1)\n",
    "  logits_2 = tf.matmul(relu_layer, weights_2) + biases_2\n",
    "    \n",
    "  test_prediction =  tf.nn.softmax(logits_2)"
   ]
  },
  {
   "cell_type": "code",
   "execution_count": 10,
   "metadata": {},
   "outputs": [
    {
     "name": "stdout",
     "output_type": "stream",
     "text": [
      "Initialized\n",
      "Minibatch loss at step 0: 3506.561035\n",
      "Minibatch accuracy: 11.5%\n",
      "Validation accuracy: 33.9%\n",
      "Minibatch loss at step 500: 21.353649\n",
      "Minibatch accuracy: 82.6%\n",
      "Validation accuracy: 83.2%\n",
      "Minibatch loss at step 1000: 0.915069\n",
      "Minibatch accuracy: 83.4%\n",
      "Validation accuracy: 82.6%\n",
      "Minibatch loss at step 1500: 0.679255\n",
      "Minibatch accuracy: 84.2%\n",
      "Validation accuracy: 82.3%\n",
      "Minibatch loss at step 2000: 0.781053\n",
      "Minibatch accuracy: 82.8%\n",
      "Validation accuracy: 82.3%\n",
      "Minibatch loss at step 2500: 0.683491\n",
      "Minibatch accuracy: 85.4%\n",
      "Validation accuracy: 82.5%\n",
      "Minibatch loss at step 3000: 0.830468\n",
      "Minibatch accuracy: 83.0%\n",
      "Validation accuracy: 82.5%\n",
      "Minibatch loss at step 3500: 0.833612\n",
      "Minibatch accuracy: 80.3%\n",
      "Validation accuracy: 82.7%\n",
      "Minibatch loss at step 4000: 0.719391\n",
      "Minibatch accuracy: 84.4%\n",
      "Validation accuracy: 82.7%\n",
      "Minibatch loss at step 4500: 0.794935\n",
      "Minibatch accuracy: 81.4%\n",
      "Validation accuracy: 82.6%\n",
      "Minibatch loss at step 5000: 0.641867\n",
      "Minibatch accuracy: 86.5%\n",
      "Validation accuracy: 82.2%\n",
      "Minibatch loss at step 5500: 0.769989\n",
      "Minibatch accuracy: 81.6%\n",
      "Validation accuracy: 82.6%\n",
      "Minibatch loss at step 6000: 0.731598\n",
      "Minibatch accuracy: 85.0%\n",
      "Validation accuracy: 82.4%\n",
      "Minibatch loss at step 6500: 0.730400\n",
      "Minibatch accuracy: 82.6%\n",
      "Validation accuracy: 82.3%\n",
      "Minibatch loss at step 7000: 0.803917\n",
      "Minibatch accuracy: 82.4%\n",
      "Validation accuracy: 82.9%\n",
      "Minibatch loss at step 7500: 0.626684\n",
      "Minibatch accuracy: 87.3%\n",
      "Validation accuracy: 82.6%\n",
      "Minibatch loss at step 8000: 0.741604\n",
      "Minibatch accuracy: 83.8%\n",
      "Validation accuracy: 82.5%\n",
      "Minibatch loss at step 8500: 0.638537\n",
      "Minibatch accuracy: 86.7%\n",
      "Validation accuracy: 82.2%\n",
      "Minibatch loss at step 9000: 0.722373\n",
      "Minibatch accuracy: 84.4%\n",
      "Validation accuracy: 82.7%\n",
      "Minibatch loss at step 9500: 0.749563\n",
      "Minibatch accuracy: 83.4%\n",
      "Validation accuracy: 82.4%\n",
      "Minibatch loss at step 10000: 0.808721\n",
      "Minibatch accuracy: 80.9%\n",
      "Validation accuracy: 82.4%\n",
      "Test accuracy: 89.1%\n"
     ]
    }
   ],
   "source": [
    "num_steps = 10001\n",
    "\n",
    "with tf.Session(graph=graph) as session:\n",
    "  tf.global_variables_initializer().run()\n",
    "  print(\"Initialized\")\n",
    "  for step in range(num_steps):\n",
    "    # Pick an offset within the training data, which has been randomized.\n",
    "    # Note: we could use better randomization across epochs.\n",
    "    offset = (step * batch_size) % (train_labels.shape[0] - batch_size)\n",
    "    #print('Offset in iteration '+ str(step) + ' is: '+ str(offset))\n",
    "    # Generate a minibatch.\n",
    "    batch_data = train_dataset[offset:(offset + batch_size), :]\n",
    "    batch_labels = train_labels[offset:(offset + batch_size), :]\n",
    "    # Prepare a dictionary telling the session where to feed the minibatch.\n",
    "    # The key of the dictionary is the placeholder node of the graph to be fed,\n",
    "    # and the value is the numpy array to feed to it.\n",
    "    feed_dict = {tf_train_dataset : batch_data, tf_train_labels : batch_labels}\n",
    "    _, l, predictions = session.run(\n",
    "      [optimizer, loss, train_prediction], feed_dict=feed_dict)\n",
    "    if (step % 500 == 0):\n",
    "      print(\"Minibatch loss at step %d: %f\" % (step, l))\n",
    "      print(\"Minibatch accuracy: %.1f%%\" % accuracy(predictions, batch_labels))\n",
    "      print(\"Validation accuracy: %.1f%%\" % accuracy(\n",
    "        valid_prediction.eval(), valid_labels))\n",
    "  print(\"Test accuracy: %.1f%%\" % accuracy(test_prediction.eval(), test_labels))"
   ]
  },
  {
   "cell_type": "markdown",
   "metadata": {
    "colab_type": "text",
    "id": "na8xX2yHZzNF"
   },
   "source": [
    "---\n",
    "Problem 2\n",
    "---------\n",
    "Let's demonstrate an extreme case of overfitting. Restrict your training data to just a few batches. What happens?\n",
    "\n",
    "---"
   ]
  },
  {
   "cell_type": "code",
   "execution_count": 11,
   "metadata": {
    "scrolled": true
   },
   "outputs": [
    {
     "name": "stdout",
     "output_type": "stream",
     "text": [
      "Initialized\n",
      "Minibatch loss at step 0: 3448.093750\n",
      "Minibatch accuracy: 15.6%\n",
      "Validation accuracy: 37.5%\n",
      "Minibatch loss at step 500: 21.140400\n",
      "Minibatch accuracy: 100.0%\n",
      "Validation accuracy: 78.5%\n",
      "Minibatch loss at step 1000: 0.656202\n",
      "Minibatch accuracy: 99.8%\n",
      "Validation accuracy: 79.9%\n",
      "Minibatch loss at step 1500: 0.479717\n",
      "Minibatch accuracy: 99.4%\n",
      "Validation accuracy: 79.6%\n",
      "Minibatch loss at step 2000: 0.461609\n",
      "Minibatch accuracy: 100.0%\n",
      "Validation accuracy: 79.6%\n",
      "Minibatch loss at step 2500: 0.462079\n",
      "Minibatch accuracy: 99.8%\n",
      "Validation accuracy: 79.7%\n",
      "Minibatch loss at step 3000: 0.454983\n",
      "Minibatch accuracy: 99.4%\n",
      "Validation accuracy: 79.7%\n",
      "Minibatch loss at step 3500: 0.447627\n",
      "Minibatch accuracy: 100.0%\n",
      "Validation accuracy: 79.6%\n",
      "Minibatch loss at step 4000: 0.452734\n",
      "Minibatch accuracy: 99.8%\n",
      "Validation accuracy: 79.6%\n",
      "Minibatch loss at step 4500: 0.447139\n",
      "Minibatch accuracy: 99.2%\n",
      "Validation accuracy: 79.6%\n",
      "Minibatch loss at step 5000: 0.442182\n",
      "Minibatch accuracy: 100.0%\n",
      "Validation accuracy: 79.6%\n",
      "Minibatch loss at step 5500: 0.446830\n",
      "Minibatch accuracy: 99.8%\n",
      "Validation accuracy: 79.7%\n",
      "Minibatch loss at step 6000: 0.443198\n",
      "Minibatch accuracy: 99.4%\n",
      "Validation accuracy: 79.5%\n",
      "Minibatch loss at step 6500: 0.438112\n",
      "Minibatch accuracy: 99.8%\n",
      "Validation accuracy: 79.6%\n",
      "Minibatch loss at step 7000: 0.445897\n",
      "Minibatch accuracy: 99.8%\n",
      "Validation accuracy: 79.5%\n",
      "Minibatch loss at step 7500: 0.441202\n",
      "Minibatch accuracy: 99.4%\n",
      "Validation accuracy: 79.5%\n",
      "Minibatch loss at step 8000: 0.437793\n",
      "Minibatch accuracy: 100.0%\n",
      "Validation accuracy: 79.5%\n",
      "Minibatch loss at step 8500: 0.445442\n",
      "Minibatch accuracy: 99.8%\n",
      "Validation accuracy: 79.5%\n",
      "Minibatch loss at step 9000: 0.440815\n",
      "Minibatch accuracy: 99.4%\n",
      "Validation accuracy: 79.5%\n",
      "Minibatch loss at step 9500: 0.435203\n",
      "Minibatch accuracy: 100.0%\n",
      "Validation accuracy: 79.5%\n",
      "Minibatch loss at step 10000: 0.442636\n",
      "Minibatch accuracy: 99.8%\n",
      "Validation accuracy: 79.6%\n",
      "Test accuracy: 86.3%\n"
     ]
    }
   ],
   "source": [
    "num_steps = 10001\n",
    "\n",
    "with tf.Session(graph=graph) as session:\n",
    "  tf.global_variables_initializer().run()\n",
    "  print(\"Initialized\")\n",
    "  for step in range(num_steps):\n",
    "    # Pick an offset within the training data, which has been randomized.\n",
    "    # Note: we could use better randomization across epochs.\n",
    "    offset = batch_size * (step % 3)\n",
    "    #print('Offset in iteration '+ str(step) + ' is: '+ str(offset))\n",
    "    # Generate a minibatch.\n",
    "    batch_data = train_dataset[offset:(offset + batch_size), :]\n",
    "    batch_labels = train_labels[offset:(offset + batch_size), :]\n",
    "    # Prepare a dictionary telling the session where to feed the minibatch.\n",
    "    # The key of the dictionary is the placeholder node of the graph to be fed,\n",
    "    # and the value is the numpy array to feed to it.\n",
    "    feed_dict = {tf_train_dataset : batch_data, tf_train_labels : batch_labels}\n",
    "    _, l, predictions = session.run(\n",
    "      [optimizer, loss, train_prediction], feed_dict=feed_dict)\n",
    "    if (step % 500 == 0):\n",
    "      print(\"Minibatch loss at step %d: %f\" % (step, l))\n",
    "      print(\"Minibatch accuracy: %.1f%%\" % accuracy(predictions, batch_labels))\n",
    "      print(\"Validation accuracy: %.1f%%\" % accuracy(\n",
    "        valid_prediction.eval(), valid_labels))\n",
    "  print(\"Test accuracy: %.1f%%\" % accuracy(test_prediction.eval(), test_labels))"
   ]
  },
  {
   "cell_type": "markdown",
   "metadata": {
    "colab_type": "text",
    "id": "ww3SCBUdlkRc"
   },
   "source": [
    "---\n",
    "Problem 3\n",
    "---------\n",
    "Introduce Dropout on the hidden layer of the neural network. Remember: Dropout should only be introduced during training, not evaluation, otherwise your evaluation results would be stochastic as well. TensorFlow provides `nn.dropout()` for that, but you have to make sure it's only inserted during training.\n",
    "\n",
    "What happens to our extreme overfitting case?\n",
    "\n",
    "---"
   ]
  },
  {
   "cell_type": "code",
   "execution_count": 10,
   "metadata": {},
   "outputs": [],
   "source": [
    "num_nodes = 1024\n",
    "batch_size = 128\n",
    "beta = 0.01\n",
    "\n",
    "graph = tf.Graph()\n",
    "with graph.as_default():\n",
    "\n",
    "  # Input data. For the training data, we use a placeholder that will be fed\n",
    "  # at run time with a training minibatch.\n",
    "  tf_train_dataset = tf.placeholder(tf.float32,\n",
    "    shape=(batch_size, image_size * image_size))\n",
    "  tf_train_labels = tf.placeholder(tf.float32, shape=(batch_size, num_labels))\n",
    "  tf_valid_dataset = tf.constant(valid_dataset)\n",
    "  tf_test_dataset = tf.constant(test_dataset)\n",
    "  \n",
    "  # Variables Layer 1\n",
    "  weights_1 = tf.Variable(\n",
    "    tf.truncated_normal([image_size * image_size, num_nodes]))\n",
    "  biases_1 = tf.Variable(tf.zeros([num_nodes]))\n",
    "    \n",
    "  # Variables Layer 2\n",
    "  weights_2 = tf.Variable(\n",
    "    tf.truncated_normal([num_nodes, num_labels]))\n",
    "  biases_2 = tf.Variable(tf.zeros([num_labels]))\n",
    "    \n",
    "  # Training computation.\n",
    "  logits_1 = tf.add(tf.matmul(tf_train_dataset, weights_1), biases_1)\n",
    "  relu = tf.nn.relu(logits_1)\n",
    "  relu_drop = tf.nn.dropout(relu, 0.5)\n",
    "  logits_2 = tf.add(tf.matmul(relu_drop, weights_2), biases_2)\n",
    "  loss = tf.reduce_mean(\n",
    "    tf.nn.softmax_cross_entropy_with_logits(labels=tf_train_labels, logits=logits_2))\n",
    "\n",
    "  regularization = tf.nn.l2_loss(weights_1) + tf.nn.l2_loss(weights_2)\n",
    "  loss = loss + beta * regularization\n",
    "  \n",
    "  # Optimizer.\n",
    "  optimizer = tf.train.GradientDescentOptimizer(0.5).minimize(loss)\n",
    "    \n",
    "  # Predictions for the training\n",
    "  train_prediction = tf.nn.softmax(logits_2)\n",
    "    \n",
    "  # Predictions for validation \n",
    "  logits_1 = tf.matmul(tf_valid_dataset, weights_1) + biases_1\n",
    "  relu_layer= tf.nn.relu(logits_1)\n",
    "  logits_2 = tf.matmul(relu_layer, weights_2) + biases_2\n",
    "    \n",
    "  valid_prediction = tf.nn.softmax(logits_2)\n",
    "    \n",
    "  # Predictions for test\n",
    "  logits_1 = tf.matmul(tf_test_dataset, weights_1) + biases_1\n",
    "  relu_layer= tf.nn.relu(logits_1)\n",
    "  logits_2 = tf.matmul(relu_layer, weights_2) + biases_2\n",
    "    \n",
    "  test_prediction =  tf.nn.softmax(logits_2)"
   ]
  },
  {
   "cell_type": "code",
   "execution_count": 11,
   "metadata": {},
   "outputs": [
    {
     "name": "stdout",
     "output_type": "stream",
     "text": [
      "Initialized\n",
      "Minibatch loss at step 0: 3580.060059\n",
      "Minibatch accuracy: 11.7%\n",
      "Validation accuracy: 27.7%\n",
      "Minibatch loss at step 500: 21.464748\n",
      "Minibatch accuracy: 82.8%\n",
      "Validation accuracy: 82.1%\n",
      "Minibatch loss at step 1000: 0.875292\n",
      "Minibatch accuracy: 85.9%\n",
      "Validation accuracy: 81.3%\n",
      "Minibatch loss at step 1500: 0.998776\n",
      "Minibatch accuracy: 74.2%\n",
      "Validation accuracy: 81.2%\n",
      "Minibatch loss at step 2000: 0.893566\n",
      "Minibatch accuracy: 78.1%\n",
      "Validation accuracy: 80.4%\n",
      "Minibatch loss at step 2500: 0.771773\n",
      "Minibatch accuracy: 83.6%\n",
      "Validation accuracy: 81.1%\n",
      "Minibatch loss at step 3000: 0.658304\n",
      "Minibatch accuracy: 89.1%\n",
      "Validation accuracy: 80.6%\n",
      "Minibatch loss at step 3500: 0.814337\n",
      "Minibatch accuracy: 81.2%\n",
      "Validation accuracy: 81.1%\n",
      "Minibatch loss at step 4000: 0.898360\n",
      "Minibatch accuracy: 79.7%\n",
      "Validation accuracy: 81.2%\n",
      "Minibatch loss at step 4500: 0.866189\n",
      "Minibatch accuracy: 79.7%\n",
      "Validation accuracy: 80.7%\n",
      "Minibatch loss at step 5000: 0.916550\n",
      "Minibatch accuracy: 81.2%\n",
      "Validation accuracy: 80.3%\n",
      "Test accuracy: 86.9%\n"
     ]
    }
   ],
   "source": [
    "num_steps = 5001\n",
    "\n",
    "with tf.Session(graph=graph) as session:\n",
    "  tf.global_variables_initializer().run()\n",
    "  print(\"Initialized\")\n",
    "  for step in range(num_steps):\n",
    "    # Pick an offset within the training data, which has been randomized.\n",
    "    # Note: we could use better randomization across epochs.\n",
    "    offset = (step * batch_size) % (train_labels.shape[0] - batch_size)\n",
    "    #print('Offset in iteration '+ str(step) + ' is: '+ str(offset))\n",
    "    # Generate a minibatch.\n",
    "    batch_data = train_dataset[offset:(offset + batch_size), :]\n",
    "    batch_labels = train_labels[offset:(offset + batch_size), :]\n",
    "    # Prepare a dictionary telling the session where to feed the minibatch.\n",
    "    # The key of the dictionary is the placeholder node of the graph to be fed,\n",
    "    # and the value is the numpy array to feed to it.\n",
    "    feed_dict = {tf_train_dataset : batch_data, tf_train_labels : batch_labels}\n",
    "    _, l, predictions = session.run(\n",
    "      [optimizer, loss, train_prediction], feed_dict=feed_dict)\n",
    "    if (step % 500 == 0):\n",
    "      print(\"Minibatch loss at step %d: %f\" % (step, l))\n",
    "      print(\"Minibatch accuracy: %.1f%%\" % accuracy(predictions, batch_labels))\n",
    "      print(\"Validation accuracy: %.1f%%\" % accuracy(\n",
    "        valid_prediction.eval(), valid_labels))\n",
    "  print(\"Test accuracy: %.1f%%\" % accuracy(test_prediction.eval(), test_labels))"
   ]
  },
  {
   "cell_type": "code",
   "execution_count": 9,
   "metadata": {},
   "outputs": [
    {
     "name": "stdout",
     "output_type": "stream",
     "text": [
      "Initialized\n",
      "Minibatch loss at step 0: 3404.252686\n",
      "Minibatch accuracy: 10.9%\n",
      "Validation accuracy: 29.8%\n",
      "Minibatch loss at step 500: 21.097956\n",
      "Minibatch accuracy: 100.0%\n",
      "Validation accuracy: 74.4%\n",
      "Minibatch loss at step 1000: 0.453407\n",
      "Minibatch accuracy: 100.0%\n",
      "Validation accuracy: 76.0%\n",
      "Minibatch loss at step 1500: 0.289589\n",
      "Minibatch accuracy: 100.0%\n",
      "Validation accuracy: 76.1%\n",
      "Minibatch loss at step 2000: 0.283881\n",
      "Minibatch accuracy: 100.0%\n",
      "Validation accuracy: 76.2%\n",
      "Minibatch loss at step 2500: 0.273648\n",
      "Minibatch accuracy: 100.0%\n",
      "Validation accuracy: 76.1%\n",
      "Minibatch loss at step 3000: 0.270465\n",
      "Minibatch accuracy: 100.0%\n",
      "Validation accuracy: 76.1%\n",
      "Minibatch loss at step 3500: 0.273427\n",
      "Minibatch accuracy: 100.0%\n",
      "Validation accuracy: 76.2%\n",
      "Minibatch loss at step 4000: 0.267368\n",
      "Minibatch accuracy: 100.0%\n",
      "Validation accuracy: 76.0%\n",
      "Minibatch loss at step 4500: 0.265939\n",
      "Minibatch accuracy: 100.0%\n",
      "Validation accuracy: 76.1%\n",
      "Minibatch loss at step 5000: 0.270107\n",
      "Minibatch accuracy: 100.0%\n",
      "Validation accuracy: 76.2%\n",
      "Test accuracy: 83.6%\n"
     ]
    }
   ],
   "source": [
    "num_steps = 5001\n",
    "\n",
    "with tf.Session(graph=graph) as session:\n",
    "  tf.global_variables_initializer().run()\n",
    "  print(\"Initialized\")\n",
    "  for step in range(num_steps):\n",
    "    # Pick an offset within the training data, which has been randomized.\n",
    "    # Note: we could use better randomization across epochs.\n",
    "    offset = batch_size * (step % 3)\n",
    "    #print('Offset in iteration '+ str(step) + ' is: '+ str(offset))\n",
    "    # Generate a minibatch.\n",
    "    batch_data = train_dataset[offset:(offset + batch_size), :]\n",
    "    batch_labels = train_labels[offset:(offset + batch_size), :]\n",
    "    # Prepare a dictionary telling the session where to feed the minibatch.\n",
    "    # The key of the dictionary is the placeholder node of the graph to be fed,\n",
    "    # and the value is the numpy array to feed to it.\n",
    "    feed_dict = {tf_train_dataset : batch_data, tf_train_labels : batch_labels}\n",
    "    _, l, predictions = session.run(\n",
    "      [optimizer, loss, train_prediction], feed_dict=feed_dict)\n",
    "    if (step % 500 == 0):\n",
    "      print(\"Minibatch loss at step %d: %f\" % (step, l))\n",
    "      print(\"Minibatch accuracy: %.1f%%\" % accuracy(predictions, batch_labels))\n",
    "      print(\"Validation accuracy: %.1f%%\" % accuracy(\n",
    "        valid_prediction.eval(), valid_labels))\n",
    "  print(\"Test accuracy: %.1f%%\" % accuracy(test_prediction.eval(), test_labels))"
   ]
  },
  {
   "cell_type": "markdown",
   "metadata": {
    "colab_type": "text",
    "id": "-b1hTz3VWZjw"
   },
   "source": [
    "---\n",
    "Problem 4\n",
    "---------\n",
    "\n",
    "Try to get the best performance you can using a multi-layer model! The best reported test accuracy using a deep network is [97.1%](http://yaroslavvb.blogspot.com/2011/09/notmnist-dataset.html?showComment=1391023266211#c8758720086795711595).\n",
    "\n",
    "One avenue you can explore is to add multiple layers.\n",
    "\n",
    "Another one is to use learning rate decay:\n",
    "\n",
    "    global_step = tf.Variable(0)  # count the number of steps taken.\n",
    "    learning_rate = tf.train.exponential_decay(0.5, global_step, ...)\n",
    "    optimizer = tf.train.GradientDescentOptimizer(learning_rate).minimize(loss, global_step=global_step)\n",
    " \n",
    " ---\n",
    "The proposed NN design will be:\n",
    "Layer1: 1024 nodes\n",
    "Layer2: 512 nodes\n",
    "Layer3: 256 nodes\n",
    "Layer4: 128 nodes"
   ]
  },
  {
   "cell_type": "code",
   "execution_count": 28,
   "metadata": {},
   "outputs": [],
   "source": [
    "import math as m\n",
    "\n",
    "# NN architecture\n",
    "num_nodes_1 = 2400\n",
    "num_nodes_2 = 1200\n",
    "num_nodes_3 = 600\n",
    "num_nodes_4 = 300\n",
    "\n",
    "batch_size = 1000\n",
    "beta = 0.0005\n",
    "\n",
    "graph = tf.Graph()\n",
    "with graph.as_default():\n",
    "\n",
    "  # Input data. For the training data, we use a placeholder that will be fed\n",
    "  # at run time with a training minibatch.\n",
    "  tf_train_dataset = tf.placeholder(tf.float32,\n",
    "    shape=(batch_size, image_size * image_size))\n",
    "  tf_train_labels = tf.placeholder(tf.float32, shape=(batch_size, num_labels))\n",
    "  tf_valid_dataset = tf.constant(valid_dataset)\n",
    "  tf_test_dataset = tf.constant(test_dataset)\n",
    "  \n",
    "  # Variables Layer 1\n",
    "  weights_1 = tf.Variable(\n",
    "    tf.truncated_normal([image_size * image_size, num_nodes_1], stddev=m.sqrt(2.0/(image_size*image_size))))\n",
    "  biases_1 = tf.Variable(tf.zeros([num_nodes_1]))\n",
    "    \n",
    "  # Variables Layer 2\n",
    "  weights_2 = tf.Variable(\n",
    "    tf.truncated_normal([num_nodes_1, num_nodes_2],stddev=m.sqrt(2.0/num_nodes_1)))\n",
    "  biases_2 = tf.Variable(tf.zeros([num_nodes_2]))\n",
    "\n",
    "  # Variables Layer 3\n",
    "  weights_3 = tf.Variable(\n",
    "    tf.truncated_normal([num_nodes_2, num_nodes_3],stddev=m.sqrt(2.0/num_nodes_2)))\n",
    "  biases_3 = tf.Variable(tf.zeros([num_nodes_3]))\n",
    "\n",
    "  # Variables Layer 4\n",
    "  weights_4 = tf.Variable(\n",
    "    tf.truncated_normal([num_nodes_3, num_nodes_4],stddev=m.sqrt(2.0/num_nodes_3)))\n",
    "  biases_4 = tf.Variable(tf.zeros([num_nodes_4]))\n",
    "    \n",
    "  # Variables Layer 5\n",
    "  weights_5 = tf.Variable(\n",
    "    tf.truncated_normal([num_nodes_4, num_labels],stddev=m.sqrt(2.0/num_nodes_4)))\n",
    "  biases_5 = tf.Variable(tf.zeros([num_labels]))\n",
    "    \n",
    "  # Training computation.\n",
    "  logits_1 = tf.add(tf.matmul(tf_train_dataset, weights_1), biases_1)\n",
    "  relu_2 = tf.nn.dropout(tf.nn.relu(logits_1), 0.5)\n",
    "  logits_2 = tf.add(tf.matmul(relu_2, weights_2), biases_2)\n",
    "  relu_3 = tf.nn.dropout(tf.nn.relu(logits_2), 0.5)\n",
    "  logits_3 = tf.add(tf.matmul(relu_3, weights_3), biases_3)\n",
    "  relu_4 = tf.nn.dropout(tf.nn.relu(logits_3), 0.5)\n",
    "  logits_4 = tf.add(tf.matmul(relu_4, weights_4), biases_4)\n",
    "  relu_5 = tf.nn.dropout(tf.nn.relu(logits_4), 0.5)\n",
    "  logits_5 = tf.add(tf.matmul(relu_5, weights_5), biases_5)\n",
    "  loss = tf.reduce_mean(\n",
    "    tf.nn.softmax_cross_entropy_with_logits(labels=tf_train_labels, logits=logits_5))\n",
    "\n",
    "  regularization = tf.nn.l2_loss(weights_1) + tf.nn.l2_loss(weights_2) \\\n",
    "    + tf.nn.l2_loss(weights_3) + tf.nn.l2_loss(weights_4) + tf.nn.l2_loss(weights_5)\n",
    "  loss = tf.reduce_mean(loss + beta * regularization)\n",
    "  \n",
    "  # Optimizer.\n",
    "  global_step = tf.Variable(0)  # count the number of steps taken.\n",
    "  learning_rate = tf.train.exponential_decay(0.5, global_step, 24000, 0.99)\n",
    "  optimizer = tf.train.GradientDescentOptimizer(learning_rate).minimize(loss, global_step=global_step)\n",
    "    \n",
    "  # Predictions for the training\n",
    "  train_prediction = tf.nn.softmax(logits_5)\n",
    "    \n",
    "  # Predictions for validation \n",
    "  logits_1 = tf.add(tf.matmul(tf_valid_dataset, weights_1), biases_1)\n",
    "  relu_2 = tf.nn.relu(logits_1)\n",
    "  logits_2 = tf.matmul(relu_2, weights_2) + biases_2\n",
    "  relu_3 = tf.nn.relu(logits_2)\n",
    "  logits_3 = tf.matmul(relu_3, weights_3) + biases_3\n",
    "  relu_4 = tf.nn.relu(logits_3)\n",
    "  logits_4 = tf.matmul(relu_4, weights_4) + biases_4\n",
    "  relu_5 = tf.nn.relu(logits_4)\n",
    "  logits_5 = tf.matmul(relu_5, weights_5) + biases_5\n",
    "    \n",
    "  valid_prediction = tf.nn.softmax(logits_5)\n",
    "    \n",
    "  # Predictions for test\n",
    "  logits_1 = tf.matmul(tf_test_dataset, weights_1) + biases_1\n",
    "  relu_2 = tf.nn.relu(logits_1)\n",
    "  logits_2 = tf.matmul(relu_2, weights_2) + biases_2\n",
    "  relu_3 = tf.nn.relu(logits_2)\n",
    "  logits_3 = tf.matmul(relu_3, weights_3) + biases_3\n",
    "  relu_4 = tf.nn.relu(logits_3)\n",
    "  logits_4 = tf.matmul(relu_4, weights_4) + biases_4\n",
    "  relu_5 = tf.nn.relu(logits_4)\n",
    "  logits_5 = tf.matmul(relu_5, weights_5) + biases_5\n",
    "    \n",
    "  test_prediction =  tf.nn.softmax(logits_5)\n",
    "\n",
    "  # Add ops to save and restore all the variables.\n",
    "  saver = tf.train.Saver()"
   ]
  },
  {
   "cell_type": "code",
   "execution_count": 29,
   "metadata": {},
   "outputs": [
    {
     "name": "stdout",
     "output_type": "stream",
     "text": [
      "Initialized\n",
      "Minibatch loss at step 0: 4.465448\n",
      "Minibatch accuracy: 12.0%\n",
      "Validation accuracy: 12.7%\n",
      "Minibatch loss at step 500: 2.105588\n",
      "Minibatch accuracy: 82.0%\n",
      "Validation accuracy: 81.5%\n",
      "Test accuracy: 88.3%\n"
     ]
    },
    {
     "data": {
      "image/png": "[encoded data removed]",
      "text/plain": [
       "<matplotlib.figure.Figure at 0x7f433e973990>"
      ]
     },
     "metadata": {},
     "output_type": "display_data"
    }
   ],
   "source": [
    "num_steps = 25001\n",
    "\n",
    "#Plots\n",
    "p_freq = 100\n",
    "losses = []\n",
    "accuracies = []\n",
    "rates = []\n",
    "\n",
    "\n",
    "with tf.Session(graph=graph) as session:\n",
    "  tf.global_variables_initializer().run()\n",
    "  print(\"Initialized\")\n",
    "  for step in range(num_steps):\n",
    "    # Pick an offset within the training data, which has been randomized.\n",
    "    # Note: we could use better randomization across epochs.\n",
    "    offset = (step * batch_size) % (train_labels.shape[0] - batch_size)\n",
    "    #print('Offset in iteration '+ str(step) + ' is: '+ str(offset))\n",
    "    # Generate a minibatch.\n",
    "    batch_data = train_dataset[offset:(offset + batch_size), :]\n",
    "    batch_labels = train_labels[offset:(offset + batch_size), :]\n",
    "    # Prepare a dictionary telling the session where to feed the minibatch.\n",
    "    # The key of the dictionary is the placeholder node of the graph to be fed,\n",
    "    # and the value is the numpy array to feed to it.\n",
    "    feed_dict = {tf_train_dataset : batch_data, tf_train_labels : batch_labels}\n",
    "    opt, l, predictions = session.run(\n",
    "      [optimizer, loss, train_prediction], feed_dict=feed_dict)\n",
    "    \n",
    "    #Plot variables\n",
    "    if (step % p_freq == 0):\n",
    "       losses.append(l)\n",
    "       accuracies.append(accuracy(valid_prediction.eval(), valid_labels))\n",
    "       rates.append(learning_rate.eval())\n",
    "    \n",
    "    \n",
    "    \n",
    "    if (step % 500 == 0):\n",
    "      print(\"Minibatch loss at step %d: %f\" % (step, l))\n",
    "      print(\"Minibatch accuracy: %.1f%%\" % accuracy(predictions, batch_labels))\n",
    "      print(\"Validation accuracy: %.1f%%\" % accuracy(\n",
    "        valid_prediction.eval(), valid_labels))\n",
    "  print(\"Test accuracy: %.1f%%\" % accuracy(test_prediction.eval(), test_labels))\n",
    "  save_path = saver.save(session, \"/notebooks/weights/model.ckpt\")\n",
    "  print(\"Model saved in path: %s\" % save_path)\n",
    "\n",
    "# Show the results.\n",
    "fig, (ax1, ax2, ax3) = plt.subplots(1, 3)\n",
    "plt.subplots_adjust(wspace=.8)\n",
    "fig.set_size_inches(10, 4)\n",
    "ax1.plot(range(0, num_steps, p_freq), losses)\n",
    "ax1.set_ylabel(\"Loss\")\n",
    "ax1.set_xlabel(\"Training steps\")\n",
    "ax2.plot(range(0, num_steps, p_freq), accuracies)\n",
    "ax2.set_ylabel(\"Validation accuracy\")\n",
    "ax2.set_xlabel(\"Training steps\")\n",
    "ax3.plot(range(0, num_steps, p_freq), rates)\n",
    "ax3.set_ylabel(\"Learning rate\")\n",
    "ax3.set_xlabel(\"Training steps\")\n",
    "ax3.set_ylim([0, 1])\n",
    "plt.show()"
   ]
  },
  {
   "cell_type": "code",
   "execution_count": 18,
   "metadata": {},
   "outputs": [
    {
     "name": "stdout",
     "output_type": "stream",
     "text": [
      "INFO:tensorflow:Restoring parameters from /notebooks/weights/model.ckpt\n",
      "Test accuracy: 96.0%\n"
     ]
    }
   ],
   "source": [
    "with tf.Session(graph=graph) as session:\n",
    "  saver.restore(session, \"/notebooks/weights/model.ckpt\")\n",
    "  print(\"Test accuracy: %.1f%%\" % accuracy(test_prediction.eval(), test_labels))"
   ]
  },
  {
   "cell_type": "code",
   "execution_count": null,
   "metadata": {},
   "outputs": [],
   "source": []
  }
 ],
 "metadata": {
  "colab": {
   "default_view": {},
   "name": "3_regularization.ipynb",
   "provenance": [],
   "version": "0.3.2",
   "views": {}
  },
  "kernelspec": {
   "display_name": "Python 2",
   "language": "python",
   "name": "python2"
  },
  "language_info": {
   "codemirror_mode": {
    "name": "ipython",
    "version": 2
   },
   "file_extension": ".py",
   "mimetype": "text/x-python",
   "name": "python",
   "nbconvert_exporter": "python",
   "pygments_lexer": "ipython2",
   "version": "2.7.12"
  }
 },
 "nbformat": 4,
 "nbformat_minor": 1
}
